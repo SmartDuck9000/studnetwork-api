{
 "cells": [
  {
   "cell_type": "markdown",
   "source": [
    "Здесь анализируются рассчеты расстояний между векторами\n",
    "интересности с использованием различных метрик. \n",
    "Лучшим решением кажется выбор манхеттенского расстояния.\n",
    "\n",
    "Анализ проводился на четырех векторах, сформированных\n",
    "из vk-групп."
   ],
   "metadata": {
    "collapsed": false,
    "pycharm": {
     "name": "#%% md\n"
    }
   }
  },
  {
   "cell_type": "code",
   "execution_count": 23,
   "metadata": {
    "collapsed": true,
    "pycharm": {
     "is_executing": false
    }
   },
   "outputs": [],
   "source": [
    "from analysis.interest_management.vk_interest import make_vk_interest_manager\n",
    "import pickle\n",
    "\n",
    "man = make_vk_interest_manager()\n",
    "\n",
    "path = '../data/pickles/'\n",
    "with open(path+'msu.pickle', 'rb') as f:\n",
    "    msu = pickle.load(f)\n",
    "with open(path+'bmstu.pickle', 'rb') as f:\n",
    "    bmstu = pickle.load(f)\n",
    "with open(path+'house.pickle', 'rb') as f:\n",
    "    house = pickle.load(f)\n",
    "with open(path+'it.pickle', 'rb') as f:\n",
    "    it = pickle.load(f)"
   ]
  },
  {
   "cell_type": "code",
   "execution_count": 24,
   "outputs": [
    {
     "name": "stdout",
     "text": [
      "группа цитат мгу:\n",
      "      values                  description\n",
      "0   0.391361    развитие образ проявление\n",
      "1   0.371198  психология литература наука\n",
      "13  0.362715   чтение работа деятельность\n",
      "45   0.35916   цель возможность состояние\n",
      "10  0.358363    философия религия мистика\n",
      "\n",
      "оф. группа мгту им. Баумана:\n",
      "      values                                 description\n",
      "3   0.408187                 технология техника создание\n",
      "28  0.404794                     страна программа проект\n",
      "0   0.398603                   развитие образ проявление\n",
      "47  0.381183                маркетинг тренинг менеджмент\n",
      "29  0.379008  программирование моделирование графический\n",
      "\n",
      "it группа, программисты\n",
      "       values                                 description\n",
      "3    0.457923                 технология техника создание\n",
      "29    0.44318  программирование моделирование графический\n",
      "0    0.436304                   развитие образ проявление\n",
      "28   0.419622                     страна программа проект\n",
      "115  0.410434                          группа часть число\n",
      "\n",
      "группа о дачах и огородах\n",
      "      values                 description\n",
      "43  0.319936            лес дерево земля\n",
      "0   0.318737   развитие образ проявление\n",
      "45  0.314966  цель возможность состояние\n",
      "95   0.31392        вопрос проблема тема\n",
      "88  0.308731         цветок роза ромашка\n"
     ],
     "output_type": "stream"
    }
   ],
   "source": [
    "print('группа цитат мгу:')\n",
    "man.text_man.print_interest(msu, head=5)\n",
    "print('\\nоф. группа мгту им. Баумана:')\n",
    "man.text_man.print_interest(bmstu, head=5)\n",
    "print('\\nit группа, программисты')\n",
    "man.text_man.print_interest(it, head=5)\n",
    "print('\\nгруппа о дачах и огородах')\n",
    "man.text_man.print_interest(house, head=5)\n",
    "\n"
   ],
   "metadata": {
    "collapsed": false,
    "pycharm": {
     "name": "#%%\n",
     "is_executing": false
    }
   }
  },
  {
   "cell_type": "code",
   "execution_count": 25,
   "outputs": [
    {
     "name": "stdout",
     "text": [
      "distances with metric: cosine\n",
      "            msu     bmstu        it     house\n",
      "msu    0.000000  0.023943  0.037370  0.034034\n",
      "bmstu  0.023943  0.000000  0.005498  0.042923\n",
      "it     0.037370  0.005498  0.000000  0.055082\n",
      "house  0.034034  0.042923  0.055082  0.000000 \n",
      "\n",
      "distances with metric: euclidean\n",
      "            msu     bmstu        it     house\n",
      "msu    0.000000  0.557129  0.713914  0.654483\n",
      "bmstu  0.557129  0.000000  0.283436  0.741415\n",
      "it     0.713914  0.283436  0.000000  0.863038\n",
      "house  0.654483  0.741415  0.863038  0.000000 \n",
      "\n",
      "distances with metric: cityblock\n",
      "            msu     bmstu        it     house\n",
      "msu    0.000000  4.958019  6.431514  6.051268\n",
      "bmstu  4.958019  0.000000  2.546361  6.747900\n",
      "it     6.431514  2.546361  0.000000  8.032260\n",
      "house  6.051268  6.747900  8.032260  0.000000 \n",
      "\n"
     ],
     "output_type": "stream"
    }
   ],
   "source": [
    "from sklearn.metrics import pairwise_distances\n",
    "import numpy as np\n",
    "import pandas as pd\n",
    "\n",
    "def print_distances(vectors, metric, name):\n",
    "    dist = pd.DataFrame(metric(vectors, vectors))\n",
    "    dist.columns = dist.index =  'msu bmstu it house'.split()\n",
    "    print('distances with metric:', name)\n",
    "    print(dist, '\\n')\n",
    "\n",
    "vectors = np.array([msu, bmstu, it, house])\n",
    "metrics = ['cosine', 'euclidean', 'cityblock']\n",
    "for metric in metrics:\n",
    "    f = lambda a, b: pairwise_distances(a, b, metric=metric)\n",
    "    print_distances(vectors, f, metric)"
   ],
   "metadata": {
    "collapsed": false,
    "pycharm": {
     "name": "#%%\n",
     "is_executing": false
    }
   }
  }
 ],
 "metadata": {
  "kernelspec": {
   "display_name": "Python 3",
   "language": "python",
   "name": "python3"
  },
  "language_info": {
   "codemirror_mode": {
    "name": "ipython",
    "version": 2
   },
   "file_extension": ".py",
   "mimetype": "text/x-python",
   "name": "python",
   "nbconvert_exporter": "python",
   "pygments_lexer": "ipython2",
   "version": "2.7.6"
  },
  "pycharm": {
   "stem_cell": {
    "cell_type": "raw",
    "source": [],
    "metadata": {
     "collapsed": false
    }
   }
  }
 },
 "nbformat": 4,
 "nbformat_minor": 0
}